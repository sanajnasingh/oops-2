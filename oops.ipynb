{
 "cells": [
  {
   "cell_type": "code",
   "execution_count": null,
   "id": "ebaa9b95-c341-4885-86ab-b2c4dbbb7e39",
   "metadata": {},
   "outputs": [],
   "source": [
    "ans1\n",
    "classes are user defined data types that act as the blueprint for individual object,attributes and methods.\n",
    "for example,if a programmer wanted to make three instances of car,maybe a bmw,a ferrari,and a ford instances"
   ]
  },
  {
   "cell_type": "code",
   "execution_count": null,
   "id": "79173625-3bad-458c-801b-44db853755ec",
   "metadata": {},
   "outputs": [],
   "source": [
    "objects are instances of a class created with specifocally defined data.Objects can correspond to real world or an abstract entity.\n",
    "for example,suppose Bike is a class then we can create objects like bike1,bike2,etc frome the class."
   ]
  },
  {
   "cell_type": "code",
   "execution_count": null,
   "id": "c788814e-b224-4451-802d-26312ad40fab",
   "metadata": {},
   "outputs": [],
   "source": [
    "ans 2\n",
    "inheritance,polymorphism,encapsulation and abstraction."
   ]
  },
  {
   "cell_type": "code",
   "execution_count": null,
   "id": "f0f840b4-29b2-4780-a951-1595fa272375",
   "metadata": {},
   "outputs": [],
   "source": [
    "ans 3\n",
    "__init__is a special python method that runs whenever a new object is created.these types of functions are used to initialize the attributes of that \n",
    "class.it is also called constructor. e.g., if the class is person,the attributes will be name,age,etc"
   ]
  },
  {
   "cell_type": "code",
   "execution_count": null,
   "id": "8abe8338-1ee2-4be5-b912-24fd391b68eb",
   "metadata": {},
   "outputs": [],
   "source": [
    "ans 4\n",
    "The self is used to represent the instance of the class.With this keyword,you can access the attributes and methods of the class in python.It\n",
    "bins the attributes with the given arguments.the reason why we use self is that python does not use the'@'syntax to refer to instance attributes."
   ]
  },
  {
   "cell_type": "code",
   "execution_count": null,
   "id": "97c8c08c-00ee-4500-90d6-6d29d62fb5a6",
   "metadata": {},
   "outputs": [],
   "source": [
    "ans 5\n",
    "Inheritance allows us to define a class that inherits all the methods and properties from another class. Parent class is the\n",
    "class being inherited from, also called base class. \n",
    "types of inheritance are:\n",
    "   1) single inheritance:Single inheritance enables a derived class to inherit properties from a single parent class, thus enabling code reusability\n",
    "    and the addition of new features to existing code.\n",
    "   2)Multiple inheritance:When a class can be derived from more than one base class this type of inheritance is called multiple inheritances. \n",
    "     In multiple inheritances, all the features of the base classes are inherited into the derived class.\n",
    "   3)Multilevel ineritance:In multilevel inheritance, features of the base class and the derived class are further inherited into the new derived\n",
    "     class.This is similar to a relationship representing a child and a grandfather. \n",
    "   4)Hierarchical Inheritance: When more than one derived class are created from a single base this type of inheritance is called hierarchical \n",
    "     inheritance. In this program, we have a parent (base) class and two child (derived) classes.\n",
    "   5)Hybrid Inheritance: Inheritance consisting of multiple types of inheritance is called hybrid inheritance.\n",
    "                               A      B\n",
    "     A---B(SINGLE INHERITANCE)   \\   /\n",
    "                                   C  (MULTIPLE INHERITANCE)"
   ]
  },
  {
   "cell_type": "code",
   "execution_count": null,
   "id": "d470fa9c-a8c7-413c-9718-a4184150cc3b",
   "metadata": {},
   "outputs": [],
   "source": [
    "(BASE CLASS)       A\n",
    "                   |[MULTIPLE INHERITANCE]\n",
    "(INTERMEDIATORY    B\n",
    "CLASS)             |\n",
    "(DERIVED CLASS)    C  "
   ]
  },
  {
   "cell_type": "code",
   "execution_count": null,
   "id": "43c7b0b0-8359-4bde-a944-e673696f13e0",
   "metadata": {},
   "outputs": [],
   "source": [
    "                A\n",
    "              / | \\\n",
    "            B   C  D {HIERARCHICAL INHERITANCE}"
   ]
  },
  {
   "cell_type": "code",
   "execution_count": null,
   "id": "014a83c1-74a2-4775-bb68-06a45c2447d1",
   "metadata": {},
   "outputs": [],
   "source": [
    "                 CLASS F  CLASS G\n",
    "                  /     \\   |\n",
    "              CLASS B   CLASS E\n",
    "               /   \\\n",
    "         CLASS A  CLASS C {HYBRID INHERITANCE}"
   ]
  }
 ],
 "metadata": {
  "kernelspec": {
   "display_name": "Python 3 (ipykernel)",
   "language": "python",
   "name": "python3"
  },
  "language_info": {
   "codemirror_mode": {
    "name": "ipython",
    "version": 3
   },
   "file_extension": ".py",
   "mimetype": "text/x-python",
   "name": "python",
   "nbconvert_exporter": "python",
   "pygments_lexer": "ipython3",
   "version": "3.10.8"
  }
 },
 "nbformat": 4,
 "nbformat_minor": 5
}
